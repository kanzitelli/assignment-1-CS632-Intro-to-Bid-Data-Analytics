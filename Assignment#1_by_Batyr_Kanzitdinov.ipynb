{
 "cells": [
  {
   "cell_type": "code",
   "execution_count": 24,
   "metadata": {
    "collapsed": false
   },
   "outputs": [
    {
     "name": "stdout",
     "output_type": "stream",
     "text": [
      "Enter F or C: F\n",
      "Temperature: 212\n",
      "212°F is 100.0 degrees C\n"
     ]
    }
   ],
   "source": [
    "# (A)\n",
    "# function for converting Celsius degrees to Fahrenheit degrees and vice versa.\n",
    "# params: scale - input scale, temp - input temperature\n",
    "# return: tuple with result scale and answer\n",
    "\n",
    "def converter(scale='C', temp=0.0):\n",
    "    if scale == 'C':\n",
    "        return ('F', (temp * (9.0/5.0)) + 32.0)\n",
    "    elif scale == 'F':\n",
    "        return ('C', (temp - 32.0) * (5.0/9.0))\n",
    "    else:\n",
    "        print(\"Please, enter F or C\")\n",
    "\n",
    "scale = raw_input(\"Enter F or C: \")\n",
    "temp = int(raw_input(\"Temperature: \"))\n",
    "s, t = converter(scale, temp)\n",
    "print('{0}°{1} is {2} degrees {3}'.format(temp, scale, t, s))"
   ]
  },
  {
   "cell_type": "code",
   "execution_count": 21,
   "metadata": {
    "collapsed": false
   },
   "outputs": [
    {
     "name": "stdout",
     "output_type": "stream",
     "text": [
      "Enter file name where we copy information from: from_file.txt\n",
      "Enter name of the new file: to_file.txt\n",
      "Does the output file exist? - True\n",
      "Please, enter name of the new file: to_file4.txt\n",
      "Copying from from_file.txt to to_file4.txt\n",
      "The input file is 61 bytes long\n",
      "Ready, hit RETURN to continue, CTRL- C to abort.\n",
      "\n",
      "Alright, all done.\n"
     ]
    }
   ],
   "source": [
    "# (B)\n",
    "# Write up a Python script that will copy the contents of one file into another\n",
    "\n",
    "from os.path import exists\n",
    "\n",
    "from_file = raw_input('Enter file name where we copy information from: ')\n",
    "to_file = raw_input('Enter name of the new file: ')\n",
    "\n",
    "print 'Does the output file exist? - {0}'.format(exists(to_file))\n",
    "while exists(to_file):\n",
    "    to_file = raw_input('Please, enter name of the new file: ')\n",
    "\n",
    "print 'Copying from {0} to {1}'.format(from_file, to_file)\n",
    "\n",
    "with open(from_file)as f: indata = f.read()\n",
    "print 'The input file is {0} bytes long'.format(len(indata))\n",
    "print 'Ready, hit RETURN to continue, CTRL- C to abort.' \n",
    "raw_input()\n",
    "\n",
    "out_file = open(to_file, 'w') \n",
    "out_file.write(indata)\n",
    "\n",
    "print \"Alright, all done.\" \n",
    "\n",
    "out_file.close()"
   ]
  },
  {
   "cell_type": "code",
   "execution_count": 22,
   "metadata": {
    "collapsed": false
   },
   "outputs": [
    {
     "name": "stdout",
     "output_type": "stream",
     "text": [
      "['findall', 'finditer']\n"
     ]
    }
   ],
   "source": [
    "# (C)\n",
    "# Print an alphabetically sorted list of all functions in the re module, which contain the word find.\n",
    "\n",
    "import re\n",
    "all_functions = dir(re)\n",
    "all_find_functions = []\n",
    "for f in all_functions:\n",
    "    if 'find' in f:\n",
    "        all_find_functions.append(f)\n",
    "print '{0}'.format(sorted(all_find_functions))\n",
    "#print('{0}'.format(dir(re)))"
   ]
  },
  {
   "cell_type": "code",
   "execution_count": 23,
   "metadata": {
    "collapsed": false,
    "scrolled": true
   },
   "outputs": [
    {
     "data": {
      "text/latex": [
       "$$P(x) = \\frac{1}{\\sigma\\sqrt{2\\pi}} e^{-(x-\\mu)^2/(2\\sigma^2)}$$"
      ],
      "text/plain": [
       "<IPython.core.display.Math object>"
      ]
     },
     "execution_count": 23,
     "metadata": {},
     "output_type": "execute_result"
    }
   ],
   "source": [
    "# (D)\n",
    "# Probability Density Function of Normal Distribution\n",
    "\n",
    "from IPython.display import Math\n",
    "Math(r'P(x) = \\frac{1}{\\sigma\\sqrt{2\\pi}} e^{-(x-\\mu)^2/(2\\sigma^2)}')"
   ]
  },
  {
   "cell_type": "code",
   "execution_count": null,
   "metadata": {
    "collapsed": true
   },
   "outputs": [],
   "source": []
  }
 ],
 "metadata": {
  "anaconda-cloud": {},
  "kernelspec": {
   "display_name": "Python [default]",
   "language": "python",
   "name": "python2"
  },
  "language_info": {
   "codemirror_mode": {
    "name": "ipython",
    "version": 2
   },
   "file_extension": ".py",
   "mimetype": "text/x-python",
   "name": "python",
   "nbconvert_exporter": "python",
   "pygments_lexer": "ipython2",
   "version": "2.7.12"
  }
 },
 "nbformat": 4,
 "nbformat_minor": 1
}
